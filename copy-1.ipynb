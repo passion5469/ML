{
 "cells": [
  {
   "cell_type": "code",
   "execution_count": 1,
   "id": "0e5b7d59",
   "metadata": {},
   "outputs": [],
   "source": [
    "import pandas as pd\n",
    "import numpy as np\n",
    "import seaborn as sns\n",
    "from sklearn.model_selection import train_test_split\n",
    "from sklearn.linear_model import LinearRegression\n",
    "from sklearn.ensemble import RandomForestRegressor\n",
    "from sklearn.metrics import r2_score, mean_squared_error\n",
    "from sklearn.preprocessing import StandardScaler, MinMaxScaler"
   ]
  },
  {
   "cell_type": "code",
   "execution_count": 2,
   "id": "b8332cd9",
   "metadata": {},
   "outputs": [],
   "source": [
    "df = pd.read_csv(\"uber.csv\")"
   ]
  },
  {
   "cell_type": "code",
   "execution_count": 3,
   "id": "c021cf11",
   "metadata": {},
   "outputs": [],
   "source": [
    "df"
   ]
  },
  {
   "cell_type": "code",
   "execution_count": 4,
   "id": "bf991938",
   "metadata": {},
   "outputs": [],
   "source": [
    "df.describe()"
   ]
  },
  {
   "cell_type": "code",
   "execution_count": 5,
   "id": "6f972fb1",
   "metadata": {},
   "outputs": [],
   "source": [
    "df.dtypes"
   ]
  },
  {
   "cell_type": "code",
   "execution_count": 6,
   "id": "9e0e11f2",
   "metadata": {},
   "outputs": [],
   "source": [
    "df = df.drop(columns=['key'], axis=1)"
   ]
  },
  {
   "cell_type": "code",
   "execution_count": 7,
   "id": "4700b2a9",
   "metadata": {},
   "outputs": [],
   "source": [
    "df"
   ]
  },
  {
   "cell_type": "code",
   "execution_count": 8,
   "id": "926154ba",
   "metadata": {},
   "outputs": [],
   "source": [
    "df.isnull().sum()"
   ]
  },
  {
   "cell_type": "code",
   "execution_count": 9,
   "id": "18715de0",
   "metadata": {},
   "outputs": [],
   "source": [
    "df.dropna(inplace = True)"
   ]
  },
  {
   "cell_type": "code",
   "execution_count": 10,
   "id": "c71578d9",
   "metadata": {},
   "outputs": [],
   "source": [
    "df"
   ]
  },
  {
   "cell_type": "code",
   "execution_count": 11,
   "id": "aa23bc14",
   "metadata": {},
   "outputs": [],
   "source": [
    "df['fare_amount'].describe()"
   ]
  },
  {
   "cell_type": "code",
   "execution_count": 12,
   "id": "2e9cac73",
   "metadata": {},
   "outputs": [],
   "source": [
    "df = df[df['fare_amount']>0]"
   ]
  },
  {
   "cell_type": "code",
   "execution_count": 13,
   "id": "2436995f",
   "metadata": {},
   "outputs": [],
   "source": [
    "df[\"fare_amount\"].describe()"
   ]
  },
  {
   "cell_type": "code",
   "execution_count": 14,
   "id": "56ae492a",
   "metadata": {},
   "outputs": [],
   "source": [
    "sns.boxplot(df['fare_amount'])"
   ]
  },
  {
   "cell_type": "code",
   "execution_count": 15,
   "id": "9104423c",
   "metadata": {},
   "outputs": [],
   "source": [
    "upper = df['fare_amount'].quantile(0.88)\n",
    "lower = df['fare_amount'].quantile(0.01)"
   ]
  },
  {
   "cell_type": "code",
   "execution_count": 16,
   "id": "83ac6693",
   "metadata": {},
   "outputs": [],
   "source": [
    "df = df[(df['fare_amount'] >= lower) & (df['fare_amount']<=upper)]\n",
    "df"
   ]
  },
  {
   "cell_type": "code",
   "execution_count": 17,
   "id": "160d7802",
   "metadata": {},
   "outputs": [],
   "source": [
    "sns.boxplot(df['fare_amount'])"
   ]
  },
  {
   "cell_type": "code",
   "execution_count": 18,
   "id": "64c6abae",
   "metadata": {},
   "outputs": [],
   "source": [
    "df['passenger_count'].describe()"
   ]
  },
  {
   "cell_type": "code",
   "execution_count": 19,
   "id": "3cc9109a",
   "metadata": {},
   "outputs": [],
   "source": [
    "df['passenger_count'].value_counts()"
   ]
  },
  {
   "cell_type": "code",
   "execution_count": 20,
   "id": "c663a59c",
   "metadata": {},
   "outputs": [],
   "source": [
    "df = df[(df['passenger_count']>=0) & (df['passenger_count'] <=6)]"
   ]
  },
  {
   "cell_type": "code",
   "execution_count": 21,
   "id": "a331fbba",
   "metadata": {},
   "outputs": [],
   "source": [
    "df.dtypes"
   ]
  },
  {
   "cell_type": "code",
   "execution_count": 22,
   "id": "02627fe9",
   "metadata": {},
   "outputs": [],
   "source": [
    "df['pickup_datetime'] = pd.to_datetime(df['pickup_datetime'])"
   ]
  },
  {
   "cell_type": "code",
   "execution_count": 23,
   "id": "d8e16b35",
   "metadata": {},
   "outputs": [],
   "source": [
    "df.dtypes"
   ]
  },
  {
   "cell_type": "code",
   "execution_count": 24,
   "id": "eb832eb3",
   "metadata": {},
   "outputs": [],
   "source": [
    "df.corr()"
   ]
  },
  {
   "cell_type": "code",
   "execution_count": 25,
   "id": "36604b83",
   "metadata": {},
   "outputs": [],
   "source": [
    "sns.heatmap(df.corr() * 100, annot = True)"
   ]
  },
  {
   "cell_type": "code",
   "execution_count": 26,
   "id": "6883640f",
   "metadata": {},
   "outputs": [],
   "source": [
    "df.dtypes"
   ]
  },
  {
   "cell_type": "code",
   "execution_count": 27,
   "id": "8a2f8907",
   "metadata": {},
   "outputs": [],
   "source": [
    "df['pickup_datetime'] = pd.to_numeric(df['pickup_datetime'])"
   ]
  },
  {
   "cell_type": "code",
   "execution_count": 28,
   "id": "efc14e28",
   "metadata": {
    "scrolled": true
   },
   "outputs": [],
   "source": [
    "df.dtypes"
   ]
  },
  {
   "cell_type": "code",
   "execution_count": 29,
   "id": "56058039",
   "metadata": {
    "scrolled": true
   },
   "outputs": [],
   "source": [
    "X = df.drop(columns = ['fare_amount'], axis = 1)\n",
    "X"
   ]
  },
  {
   "cell_type": "code",
   "execution_count": 30,
   "id": "b7016771",
   "metadata": {},
   "outputs": [],
   "source": [
    "Y = df['fare_amount']\n",
    "Y"
   ]
  },
  {
   "cell_type": "code",
   "execution_count": 31,
   "id": "ddfb747f",
   "metadata": {},
   "outputs": [],
   "source": [
    "X_train, X_test, Y_train, Y_test = train_test_split(X, Y, test_size = 0.20)"
   ]
  },
  {
   "cell_type": "code",
   "execution_count": 32,
   "id": "2ee6d48f",
   "metadata": {},
   "outputs": [],
   "source": [
    "lrm = LinearRegression()"
   ]
  },
  {
   "cell_type": "code",
   "execution_count": 33,
   "id": "dfe00e9c",
   "metadata": {},
   "outputs": [],
   "source": [
    "lrm.fit(X_train, Y_train)"
   ]
  },
  {
   "cell_type": "code",
   "execution_count": 34,
   "id": "5e6f0d76",
   "metadata": {},
   "outputs": [],
   "source": [
    "lrm_pred = lrm.predict(X_test)"
   ]
  },
  {
   "cell_type": "code",
   "execution_count": 35,
   "id": "4a4b24f6",
   "metadata": {},
   "outputs": [],
   "source": [
    "rfrm = RandomForestRegressor()"
   ]
  },
  {
   "cell_type": "code",
   "execution_count": 36,
   "id": "dfce5fc9",
   "metadata": {},
   "outputs": [],
   "source": [
    "rfrm.fit(X_train, Y_train)\n",
    "rfrm_pred = rfrm.predict(X_test)"
   ]
  },
  {
   "cell_type": "code",
   "execution_count": 37,
   "id": "16f78ced",
   "metadata": {},
   "outputs": [],
   "source": [
    "print(\"Linear Regression: \")\n",
    "print(\"R2 Score: \", r2_score(Y_test, lrm_pred))\n",
    "print(\"RMSE: \", np.sqrt(mean_squared_error(Y_test, lrm_pred)))"
   ]
  },
  {
   "cell_type": "code",
   "execution_count": 38,
   "id": "d4ccec81",
   "metadata": {},
   "outputs": [],
   "source": [
    "import matplotlib.pyplot as plt"
   ]
  },
  {
   "cell_type": "code",
   "execution_count": 39,
   "id": "61d9ef77",
   "metadata": {},
   "outputs": [],
   "source": [
    "plt.scatter(Y_test, lrm_pred)"
   ]
  },
  {
   "cell_type": "code",
   "execution_count": null,
   "id": "cde05540",
   "metadata": {},
   "outputs": [],
   "source": []
  }
 ],
 "metadata": {
  "kernelspec": {
   "display_name": "Python 3 (ipykernel)",
   "language": "python",
   "name": "python3"
  },
  "language_info": {
   "codemirror_mode": {
    "name": "ipython",
    "version": 3
   },
   "file_extension": ".py",
   "mimetype": "text/x-python",
   "name": "python",
   "nbconvert_exporter": "python",
   "pygments_lexer": "ipython3",
   "version": "3.10.10"
  }
 },
 "nbformat": 4,
 "nbformat_minor": 5
}
